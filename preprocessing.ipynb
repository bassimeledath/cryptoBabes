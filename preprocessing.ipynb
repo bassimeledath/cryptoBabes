{
 "cells": [
  {
   "cell_type": "code",
   "execution_count": 116,
   "metadata": {},
   "outputs": [],
   "source": [
    "import pandas as pd\n",
    "import numpy as np\n",
    "import dateandtime"
   ]
  },
  {
   "cell_type": "code",
   "execution_count": 117,
   "metadata": {},
   "outputs": [],
   "source": [
    "def preprocess(file):\n",
    "    data = pd.read_csv(file)\n",
    "    data.drop(['exchange','symbol'],axis=1,inplace=True)\n",
    "    data['date'] = data.apply((lambda x: pd.Series({'date':dateandtime.convert_dates(x['date'])})), axis = 1)\n",
    "    date = [str(x) for x in data['date']]\n",
    "    date_new = [x.split() for x in date]\n",
    "    data['date'] = pd.Series([x[0] for x in date_new])\n",
    "    data['time'] = pd.Series([x[1] for x in date_new])\n",
    "    time_new = [x.split(':') for x in data['time']]\n",
    "    data['hours'] = pd.Series([x[0] for x in time_new])\n",
    "    data['minutes'] = pd.Series([x[1] for x in time_new])\n",
    "    data['seconds'] = pd.Series([x[2] for x in time_new])\n",
    "    data['hour_minute'] = pd.Series([(x[0] + ':' + x[1]) for x in time_new])\n",
    "    return data"
   ]
  },
  {
   "cell_type": "code",
   "execution_count": null,
   "metadata": {},
   "outputs": [],
   "source": []
  }
 ],
 "metadata": {
  "kernelspec": {
   "display_name": "Python 3",
   "language": "python",
   "name": "python3"
  },
  "language_info": {
   "codemirror_mode": {
    "name": "ipython",
    "version": 3
   },
   "file_extension": ".py",
   "mimetype": "text/x-python",
   "name": "python",
   "nbconvert_exporter": "python",
   "pygments_lexer": "ipython3",
   "version": "3.6.5"
  }
 },
 "nbformat": 4,
 "nbformat_minor": 2
}
