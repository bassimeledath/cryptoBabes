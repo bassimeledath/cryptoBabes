{
 "cells": [
  {
   "cell_type": "code",
   "execution_count": 2,
   "metadata": {},
   "outputs": [],
   "source": [
    "import pandas as pd\n",
    "\n",
    "import pyarrow.parquet as pq\n",
    "\n",
    "data1 = pq.read_table('tBTCUSD_trades.parquet')\n",
    "\n",
    "result1 = data1.to_pandas()\n",
    "result1.to_csv('tBTCUSD.csv',index=False)\n",
    "\n",
    "data2 = pq.read_table('tEOSUSD_trades.parquet')\n",
    "\n",
    "result2 = data2.to_pandas()\n",
    "result2.to_csv('tEOSUSD.csv',index=False)\n",
    "\n",
    "data3 = pq.read_table('tETCUSD_trades.parquet')\n",
    "\n",
    "result3 = data3.to_pandas()\n",
    "result3.to_csv('tETCUSD.csv',index=False)\n",
    "\n",
    "data4 = pq.read_table('tLTCUSD_trades.parquet')\n",
    "\n",
    "result4 = data4.to_pandas()\n",
    "result4.to_csv('tLTCUSD.csv',index=False)"
   ]
  },
  {
   "cell_type": "code",
   "execution_count": null,
   "metadata": {},
   "outputs": [],
   "source": []
  }
 ],
 "metadata": {
  "kernelspec": {
   "display_name": "Python 3",
   "language": "python",
   "name": "python3"
  },
  "language_info": {
   "codemirror_mode": {
    "name": "ipython",
    "version": 3
   },
   "file_extension": ".py",
   "mimetype": "text/x-python",
   "name": "python",
   "nbconvert_exporter": "python",
   "pygments_lexer": "ipython3",
   "version": "3.6.5"
  }
 },
 "nbformat": 4,
 "nbformat_minor": 2
}
