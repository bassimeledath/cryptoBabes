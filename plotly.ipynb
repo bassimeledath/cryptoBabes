{
 "cells": [
  {
   "cell_type": "code",
   "execution_count": 1,
   "metadata": {},
   "outputs": [],
   "source": [
    "import plotly.plotly as py\n",
    "import plotly.graph_objs as go\n",
    "import pandas as pd\n",
    "import numpy as np\n",
    "from datetime import datetime\n",
    "\n",
    "import plotly\n",
    "plotly.tools.set_credentials_file(username='yuqi98', api_key='rlnavwOHvSvowl3vnXvE')\n",
    "\n",
    "plotly.tools.set_config_file(world_readable=True,\n",
    "                             sharing='public')"
   ]
  },
  {
   "cell_type": "code",
   "execution_count": 2,
   "metadata": {},
   "outputs": [
    {
     "data": {
      "text/html": [
       "<div>\n",
       "<style scoped>\n",
       "    .dataframe tbody tr th:only-of-type {\n",
       "        vertical-align: middle;\n",
       "    }\n",
       "\n",
       "    .dataframe tbody tr th {\n",
       "        vertical-align: top;\n",
       "    }\n",
       "\n",
       "    .dataframe thead th {\n",
       "        text-align: right;\n",
       "    }\n",
       "</style>\n",
       "<table border=\"1\" class=\"dataframe\">\n",
       "  <thead>\n",
       "    <tr style=\"text-align: right;\">\n",
       "      <th></th>\n",
       "      <th>hours</th>\n",
       "      <th>high</th>\n",
       "      <th>low</th>\n",
       "      <th>average</th>\n",
       "      <th>open</th>\n",
       "      <th>close</th>\n",
       "    </tr>\n",
       "  </thead>\n",
       "  <tbody>\n",
       "    <tr>\n",
       "      <th>0</th>\n",
       "      <td>2</td>\n",
       "      <td>7361.9</td>\n",
       "      <td>7116.422200</td>\n",
       "      <td>7193.404812</td>\n",
       "      <td>7349.6000</td>\n",
       "      <td>7125.137818</td>\n",
       "    </tr>\n",
       "    <tr>\n",
       "      <th>1</th>\n",
       "      <td>3</td>\n",
       "      <td>7206.0</td>\n",
       "      <td>7014.324431</td>\n",
       "      <td>7100.060279</td>\n",
       "      <td>7116.4222</td>\n",
       "      <td>7047.082980</td>\n",
       "    </tr>\n",
       "    <tr>\n",
       "      <th>2</th>\n",
       "      <td>4</td>\n",
       "      <td>7220.2</td>\n",
       "      <td>7028.000000</td>\n",
       "      <td>7108.148431</td>\n",
       "      <td>7052.0000</td>\n",
       "      <td>7213.275960</td>\n",
       "    </tr>\n",
       "    <tr>\n",
       "      <th>3</th>\n",
       "      <td>5</td>\n",
       "      <td>7306.1</td>\n",
       "      <td>7088.758110</td>\n",
       "      <td>7209.600051</td>\n",
       "      <td>7237.0000</td>\n",
       "      <td>7097.557065</td>\n",
       "    </tr>\n",
       "    <tr>\n",
       "      <th>4</th>\n",
       "      <td>6</td>\n",
       "      <td>7142.3</td>\n",
       "      <td>6999.968655</td>\n",
       "      <td>7055.798336</td>\n",
       "      <td>7104.0000</td>\n",
       "      <td>7095.000000</td>\n",
       "    </tr>\n",
       "  </tbody>\n",
       "</table>\n",
       "</div>"
      ],
      "text/plain": [
       "   hours    high          low      average       open        close\n",
       "0      2  7361.9  7116.422200  7193.404812  7349.6000  7125.137818\n",
       "1      3  7206.0  7014.324431  7100.060279  7116.4222  7047.082980\n",
       "2      4  7220.2  7028.000000  7108.148431  7052.0000  7213.275960\n",
       "3      5  7306.1  7088.758110  7209.600051  7237.0000  7097.557065\n",
       "4      6  7142.3  6999.968655  7055.798336  7104.0000  7095.000000"
      ]
     },
     "execution_count": 2,
     "metadata": {},
     "output_type": "execute_result"
    }
   ],
   "source": [
    "data = pd.read_csv('feature_hour.csv')\n",
    "data.head()"
   ]
  },
  {
   "cell_type": "code",
   "execution_count": 3,
   "metadata": {},
   "outputs": [],
   "source": [
    "open_data = data['open']\n",
    "close_data = data['close']\n",
    "high_data = data['high']\n",
    "low_data = data['low']\n",
    "dates = data['hours']"
   ]
  },
  {
   "cell_type": "code",
   "execution_count": 4,
   "metadata": {},
   "outputs": [
    {
     "data": {
      "text/html": [
       "<iframe id=\"igraph\" scrolling=\"no\" style=\"border:none;\" seamless=\"seamless\" src=\"https://plot.ly/~yuqi98/4.embed\" height=\"525px\" width=\"100%\"></iframe>"
      ],
      "text/plain": [
       "<plotly.tools.PlotlyDisplay object>"
      ]
     },
     "execution_count": 4,
     "metadata": {},
     "output_type": "execute_result"
    }
   ],
   "source": [
    "trace = go.Candlestick(x=dates,\n",
    "                       open=open_data,\n",
    "                       high=high_data,\n",
    "                       low=low_data,\n",
    "                       close=close_data)\n",
    "#print(trace)\n",
    "data = [trace]\n",
    "#py.iplot?\n",
    "py.iplot(data,filename='hour_candlestick_plot')"
   ]
  },
  {
   "cell_type": "code",
   "execution_count": 5,
   "metadata": {},
   "outputs": [
    {
     "data": {
      "text/html": [
       "<div>\n",
       "<style scoped>\n",
       "    .dataframe tbody tr th:only-of-type {\n",
       "        vertical-align: middle;\n",
       "    }\n",
       "\n",
       "    .dataframe tbody tr th {\n",
       "        vertical-align: top;\n",
       "    }\n",
       "\n",
       "    .dataframe thead th {\n",
       "        text-align: right;\n",
       "    }\n",
       "</style>\n",
       "<table border=\"1\" class=\"dataframe\">\n",
       "  <thead>\n",
       "    <tr style=\"text-align: right;\">\n",
       "      <th></th>\n",
       "      <th>hour_minute</th>\n",
       "      <th>high</th>\n",
       "      <th>low</th>\n",
       "      <th>average</th>\n",
       "      <th>open</th>\n",
       "      <th>close</th>\n",
       "    </tr>\n",
       "  </thead>\n",
       "  <tbody>\n",
       "    <tr>\n",
       "      <th>0</th>\n",
       "      <td>21:48</td>\n",
       "      <td>6627.1</td>\n",
       "      <td>6619.4</td>\n",
       "      <td>6623.655304</td>\n",
       "      <td>6619.4</td>\n",
       "      <td>6627.0</td>\n",
       "    </tr>\n",
       "    <tr>\n",
       "      <th>1</th>\n",
       "      <td>21:49</td>\n",
       "      <td>6619.4</td>\n",
       "      <td>6618.1</td>\n",
       "      <td>6618.540741</td>\n",
       "      <td>6618.1</td>\n",
       "      <td>6619.4</td>\n",
       "    </tr>\n",
       "    <tr>\n",
       "      <th>2</th>\n",
       "      <td>21:50</td>\n",
       "      <td>6618.1</td>\n",
       "      <td>6605.0</td>\n",
       "      <td>6608.861813</td>\n",
       "      <td>6607.0</td>\n",
       "      <td>6618.1</td>\n",
       "    </tr>\n",
       "    <tr>\n",
       "      <th>3</th>\n",
       "      <td>21:51</td>\n",
       "      <td>6607.0</td>\n",
       "      <td>6606.9</td>\n",
       "      <td>6606.978947</td>\n",
       "      <td>6607.0</td>\n",
       "      <td>6607.0</td>\n",
       "    </tr>\n",
       "    <tr>\n",
       "      <th>4</th>\n",
       "      <td>21:52</td>\n",
       "      <td>6613.6</td>\n",
       "      <td>6607.0</td>\n",
       "      <td>6611.042105</td>\n",
       "      <td>6613.0</td>\n",
       "      <td>6607.0</td>\n",
       "    </tr>\n",
       "  </tbody>\n",
       "</table>\n",
       "</div>"
      ],
      "text/plain": [
       "  hour_minute    high     low      average    open   close\n",
       "0       21:48  6627.1  6619.4  6623.655304  6619.4  6627.0\n",
       "1       21:49  6619.4  6618.1  6618.540741  6618.1  6619.4\n",
       "2       21:50  6618.1  6605.0  6608.861813  6607.0  6618.1\n",
       "3       21:51  6607.0  6606.9  6606.978947  6607.0  6607.0\n",
       "4       21:52  6613.6  6607.0  6611.042105  6613.0  6607.0"
      ]
     },
     "execution_count": 5,
     "metadata": {},
     "output_type": "execute_result"
    }
   ],
   "source": [
    "data = pd.read_csv('part2/tBTCUSD_feature_minute.csv')\n",
    "data.head()"
   ]
  },
  {
   "cell_type": "code",
   "execution_count": 6,
   "metadata": {},
   "outputs": [],
   "source": [
    "open_data = data['open']\n",
    "close_data = data['close']\n",
    "high_data = data['high']\n",
    "low_data = data['low']\n",
    "dates = data['hour_minute']"
   ]
  },
  {
   "cell_type": "code",
   "execution_count": 7,
   "metadata": {},
   "outputs": [
    {
     "data": {
      "text/html": [
       "<iframe id=\"igraph\" scrolling=\"no\" style=\"border:none;\" seamless=\"seamless\" src=\"https://plot.ly/~yuqi98/6.embed\" height=\"525px\" width=\"100%\"></iframe>"
      ],
      "text/plain": [
       "<plotly.tools.PlotlyDisplay object>"
      ]
     },
     "execution_count": 7,
     "metadata": {},
     "output_type": "execute_result"
    }
   ],
   "source": [
    "trace0 = go.Candlestick(x=dates,\n",
    "                       open=open_data,\n",
    "                       high=high_data,\n",
    "                       low=low_data,\n",
    "                       close=close_data)\n",
    "#print(trace)\n",
    "data = [trace0]\n",
    "#py.iplot?\n",
    "py.iplot(data,filename='minutes_candlestick_BTCUSD')"
   ]
  },
  {
   "cell_type": "code",
   "execution_count": 8,
   "metadata": {},
   "outputs": [
    {
     "data": {
      "text/html": [
       "<iframe id=\"igraph\" scrolling=\"no\" style=\"border:none;\" seamless=\"seamless\" src=\"https://plot.ly/~yuqi98/8.embed\" height=\"525px\" width=\"100%\"></iframe>"
      ],
      "text/plain": [
       "<plotly.tools.PlotlyDisplay object>"
      ]
     },
     "execution_count": 8,
     "metadata": {},
     "output_type": "execute_result"
    }
   ],
   "source": [
    "data = pd.read_csv('part2/tEOSUSD_feature_minute.csv')\n",
    "data.head()\n",
    "open_data = data['open']\n",
    "close_data = data['close']\n",
    "high_data = data['high']\n",
    "low_data = data['low']\n",
    "dates = data['hour_minute']\n",
    "trace1 = go.Candlestick(x=dates,\n",
    "                       open=open_data,\n",
    "                       high=high_data,\n",
    "                       low=low_data,\n",
    "                       close=close_data)\n",
    "#print(trace)\n",
    "data = [trace1]\n",
    "#py.iplot?\n",
    "py.iplot(data,filename='minutes_candlestick_EOSUSD')"
   ]
  },
  {
   "cell_type": "code",
   "execution_count": 9,
   "metadata": {},
   "outputs": [
    {
     "data": {
      "text/html": [
       "<iframe id=\"igraph\" scrolling=\"no\" style=\"border:none;\" seamless=\"seamless\" src=\"https://plot.ly/~yuqi98/10.embed\" height=\"525px\" width=\"100%\"></iframe>"
      ],
      "text/plain": [
       "<plotly.tools.PlotlyDisplay object>"
      ]
     },
     "execution_count": 9,
     "metadata": {},
     "output_type": "execute_result"
    }
   ],
   "source": [
    "data = pd.read_csv('part2/tETCUSD_feature_minute.csv')\n",
    "data.head()\n",
    "open_data = data['open']\n",
    "close_data = data['close']\n",
    "high_data = data['high']\n",
    "low_data = data['low']\n",
    "dates = data['hour_minute']\n",
    "trace2 = go.Candlestick(x=dates,\n",
    "                       open=open_data,\n",
    "                       high=high_data,\n",
    "                       low=low_data,\n",
    "                       close=close_data)\n",
    "#print(trace)\n",
    "data = [trace2]\n",
    "#py.iplot?\n",
    "py.iplot(data,filename='minutes_candlestick_ETCUSD')"
   ]
  },
  {
   "cell_type": "code",
   "execution_count": 10,
   "metadata": {},
   "outputs": [
    {
     "data": {
      "text/html": [
       "<iframe id=\"igraph\" scrolling=\"no\" style=\"border:none;\" seamless=\"seamless\" src=\"https://plot.ly/~yuqi98/12.embed\" height=\"525px\" width=\"100%\"></iframe>"
      ],
      "text/plain": [
       "<plotly.tools.PlotlyDisplay object>"
      ]
     },
     "execution_count": 10,
     "metadata": {},
     "output_type": "execute_result"
    }
   ],
   "source": [
    "data = pd.read_csv('part2/tLTCUSD_feature_minute.csv')\n",
    "data.head()\n",
    "open_data = data['open']\n",
    "close_data = data['close']\n",
    "high_data = data['high']\n",
    "low_data = data['low']\n",
    "dates = data['hour_minute']\n",
    "trace3 = go.Candlestick(x=dates,\n",
    "                       open=open_data,\n",
    "                       high=high_data,\n",
    "                       low=low_data,\n",
    "                       close=close_data)\n",
    "#print(trace)\n",
    "data = [trace3]\n",
    "#py.iplot?\n",
    "py.iplot(data,filename='minutes_candlestick_LTCUSD')"
   ]
  },
  {
   "cell_type": "code",
   "execution_count": 11,
   "metadata": {},
   "outputs": [
    {
     "name": "stdout",
     "output_type": "stream",
     "text": [
      "This is the format of your plot grid:\n",
      "[ (1,1) x1,y1 ]  [ (1,2) x2,y2 ]\n",
      "[ (2,1) x3,y3 ]  [ (2,2) x4,y4 ]\n",
      "\n"
     ]
    },
    {
     "data": {
      "text/html": [
       "<iframe id=\"igraph\" scrolling=\"no\" style=\"border:none;\" seamless=\"seamless\" src=\"https://plot.ly/~yuqi98/14.embed\" height=\"1000px\" width=\"1000px\"></iframe>"
      ],
      "text/plain": [
       "<plotly.tools.PlotlyDisplay object>"
      ]
     },
     "execution_count": 11,
     "metadata": {},
     "output_type": "execute_result"
    }
   ],
   "source": [
    "\n",
    "from plotly import tools\n",
    "\n",
    "#data = [trace1,trace2,trace3,trace4]\n",
    "\n",
    "fig = tools.make_subplots(rows=2, cols=2, subplot_titles=('BTCUSD', 'EOSUSD',\n",
    "                                                          'ETCUSD', 'LTCUSD'))\n",
    "\n",
    "fig.append_trace(trace0, 1, 1)\n",
    "fig.append_trace(trace1, 1, 2)\n",
    "fig.append_trace(trace2, 2, 1)\n",
    "fig.append_trace(trace3, 2, 2)\n",
    "\n",
    "fig['layout'].update(height=1000, width=1000, title='4COINS')\n",
    "\n",
    "\n",
    "\n",
    "py.iplot(fig,filename='minute_all4coins_candlestick')"
   ]
  },
  {
   "cell_type": "code",
   "execution_count": null,
   "metadata": {},
   "outputs": [],
   "source": []
  }
 ],
 "metadata": {
  "kernelspec": {
   "display_name": "Python 3",
   "language": "python",
   "name": "python3"
  },
  "language_info": {
   "codemirror_mode": {
    "name": "ipython",
    "version": 3
   },
   "file_extension": ".py",
   "mimetype": "text/x-python",
   "name": "python",
   "nbconvert_exporter": "python",
   "pygments_lexer": "ipython3",
   "version": "3.6.5"
  }
 },
 "nbformat": 4,
 "nbformat_minor": 2
}
