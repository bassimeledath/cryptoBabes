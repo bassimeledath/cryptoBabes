{
 "cells": [
  {
   "cell_type": "code",
   "execution_count": 33,
   "metadata": {},
   "outputs": [],
   "source": [
    "# Dependencies\n",
    "\n",
    "import numpy as np\n",
    "import pandas as pd\n",
    "import matplotlib.pyplot as plt\n",
    "import tweepy\n",
    "from IPython.display import display\n",
    "from tweepy import OAuthHandler\n",
    "%matplotlib inline"
   ]
  },
  {
   "cell_type": "code",
   "execution_count": 34,
   "metadata": {},
   "outputs": [],
   "source": [
    "# Authorizing the API\n",
    "\n",
    "def twitter_authorization():\n",
    "    consumer_key = 'n1gDcWukWnKnWrjgiG3ehyMWj'\n",
    "    consumer_secret = '7wnHaiE7xJcuHpep1a4wlXzy3b0WpIUKr8nkKv4YqGqljMwUNf'\n",
    "    access_token = '75494022-QzpwSyZ9H6bzsdTEPZjD3nW6SkOOxVJhoW4bKNAkb'\n",
    "    access_secret = 'yBQwPrn61ZDmUoco9cksNwrq8sBiqLAMQUaAeoRcScPzz'\n",
    "    auth = OAuthHandler(consumer_key, consumer_secret)\n",
    "    auth.set_access_token(access_token, access_secret)\n",
    "    api = tweepy.API(auth)\n",
    "    \n",
    "    return api"
   ]
  },
  {
   "cell_type": "code",
   "execution_count": 103,
   "metadata": {},
   "outputs": [],
   "source": [
    "tweet_extractor = twitter_authorization()\n",
    "tweets = tweepy.Cursor(api.search, q='bitcoin',since='2018-06-27', until='2018-06-28').items(50)\n",
    "\n",
    "data = pd.DataFrame(data=[tweet.text for tweet in tweets], columns=['Tweets'])"
   ]
  },
  {
   "cell_type": "code",
   "execution_count": 104,
   "metadata": {},
   "outputs": [
    {
     "data": {
      "text/html": [
       "<div>\n",
       "<style scoped>\n",
       "    .dataframe tbody tr th:only-of-type {\n",
       "        vertical-align: middle;\n",
       "    }\n",
       "\n",
       "    .dataframe tbody tr th {\n",
       "        vertical-align: top;\n",
       "    }\n",
       "\n",
       "    .dataframe thead th {\n",
       "        text-align: right;\n",
       "    }\n",
       "</style>\n",
       "<table border=\"1\" class=\"dataframe\">\n",
       "  <thead>\n",
       "    <tr style=\"text-align: right;\">\n",
       "      <th></th>\n",
       "      <th>Tweets</th>\n",
       "    </tr>\n",
       "  </thead>\n",
       "  <tbody>\n",
       "    <tr>\n",
       "      <th>0</th>\n",
       "      <td>RT @Richard_trades: Do you know you can earn u...</td>\n",
       "    </tr>\n",
       "    <tr>\n",
       "      <th>1</th>\n",
       "      <td>RT @murthaburke: Essentia ICO - A Masternoded ...</td>\n",
       "    </tr>\n",
       "    <tr>\n",
       "      <th>2</th>\n",
       "      <td>RT @murthaburke: Essentia ICO - A Masternoded ...</td>\n",
       "    </tr>\n",
       "    <tr>\n",
       "      <th>3</th>\n",
       "      <td>RT @celilozturk24: ANYTHING APP AIRDROP 📢⭐⭐⭐⭐⭐...</td>\n",
       "    </tr>\n",
       "    <tr>\n",
       "      <th>4</th>\n",
       "      <td>RT @TheCryptoDog: @Fergulati Damn right.\\n\\nAn...</td>\n",
       "    </tr>\n",
       "    <tr>\n",
       "      <th>5</th>\n",
       "      <td>@brian_armstrong Great, this was the orig conc...</td>\n",
       "    </tr>\n",
       "    <tr>\n",
       "      <th>6</th>\n",
       "      <td>RT @angela_walch: @LukeDashjr @socrates1024 Wo...</td>\n",
       "    </tr>\n",
       "    <tr>\n",
       "      <th>7</th>\n",
       "      <td>RT @murthaburke: KWATT Coin ICO - Tokenized El...</td>\n",
       "    </tr>\n",
       "    <tr>\n",
       "      <th>8</th>\n",
       "      <td>RT @DaveSimonoff: $BTC Bounce from 6000 is in ...</td>\n",
       "    </tr>\n",
       "    <tr>\n",
       "      <th>9</th>\n",
       "      <td>Where Will Bitcoin and Blockchain Fit in the B...</td>\n",
       "    </tr>\n",
       "    <tr>\n",
       "      <th>10</th>\n",
       "      <td>2018 Cryptocurrency Survey Finds Bitcoin Most ...</td>\n",
       "    </tr>\n",
       "    <tr>\n",
       "      <th>11</th>\n",
       "      <td>@doc_bitcoin @knuck13head ZRX will hit 5B mark...</td>\n",
       "    </tr>\n",
       "    <tr>\n",
       "      <th>12</th>\n",
       "      <td>RT @HippocratesNews: #Bitcoin #carnivores?\\nht...</td>\n",
       "    </tr>\n",
       "    <tr>\n",
       "      <th>13</th>\n",
       "      <td>RT @uncloakio: “The Coinrail attack highlights...</td>\n",
       "    </tr>\n",
       "    <tr>\n",
       "      <th>14</th>\n",
       "      <td>RT @EvelynGinossi: Bitcoin, Ethereum, Ripple, ...</td>\n",
       "    </tr>\n",
       "    <tr>\n",
       "      <th>15</th>\n",
       "      <td>Bitcoin Origin aims to create the world's firs...</td>\n",
       "    </tr>\n",
       "    <tr>\n",
       "      <th>16</th>\n",
       "      <td>RT @EthereumZ: 🚀Be one to receive Ethereum zer...</td>\n",
       "    </tr>\n",
       "    <tr>\n",
       "      <th>17</th>\n",
       "      <td>RT @golixdotcom: 1. Sign up to https://t.co/fW...</td>\n",
       "    </tr>\n",
       "    <tr>\n",
       "      <th>18</th>\n",
       "      <td>Bitcoin is ‘Amazing’ but Blockchain Is a ‘Bubb...</td>\n",
       "    </tr>\n",
       "    <tr>\n",
       "      <th>19</th>\n",
       "      <td>RT @qurrex: #qurrex #public #ICO will end in 3...</td>\n",
       "    </tr>\n",
       "    <tr>\n",
       "      <th>20</th>\n",
       "      <td>Join our pump group for fast bitcoin\\n\\nhttps:...</td>\n",
       "    </tr>\n",
       "    <tr>\n",
       "      <th>21</th>\n",
       "      <td>Crypto 2018 #bitcoin #crypto https://t.co/mLiN...</td>\n",
       "    </tr>\n",
       "    <tr>\n",
       "      <th>22</th>\n",
       "      <td>RT @SHIELDcurrency: This is for the curious on...</td>\n",
       "    </tr>\n",
       "    <tr>\n",
       "      <th>23</th>\n",
       "      <td>RT @loi_luu: I’m still surprised that people a...</td>\n",
       "    </tr>\n",
       "    <tr>\n",
       "      <th>24</th>\n",
       "      <td>@matt_odell I'm of the opinion that bitcoin's ...</td>\n",
       "    </tr>\n",
       "    <tr>\n",
       "      <th>25</th>\n",
       "      <td>RT @qurrex: ONLY 3 DAYS LEFT #Qurrex #TokenSal...</td>\n",
       "    </tr>\n",
       "    <tr>\n",
       "      <th>26</th>\n",
       "      <td>RT @loi_luu: I’m still surprised that people a...</td>\n",
       "    </tr>\n",
       "    <tr>\n",
       "      <th>27</th>\n",
       "      <td>Guys we are getting a overwhelming response to...</td>\n",
       "    </tr>\n",
       "    <tr>\n",
       "      <th>28</th>\n",
       "      <td>Long/Short Bitcoin moves with up to 100x Lever...</td>\n",
       "    </tr>\n",
       "    <tr>\n",
       "      <th>29</th>\n",
       "      <td>RT @FortuneMagazine: Apple co-founder Steve Wo...</td>\n",
       "    </tr>\n",
       "    <tr>\n",
       "      <th>30</th>\n",
       "      <td>RT @gomente_coin: 文字数多いけど読みやすい。Bitcoinの何が偉大だった...</td>\n",
       "    </tr>\n",
       "    <tr>\n",
       "      <th>31</th>\n",
       "      <td>RT @murthaburke: New Hot Crypto ICO Join Now!!...</td>\n",
       "    </tr>\n",
       "    <tr>\n",
       "      <th>32</th>\n",
       "      <td>RT @btc: In case you forgot, bitcoin rose from...</td>\n",
       "    </tr>\n",
       "    <tr>\n",
       "      <th>33</th>\n",
       "      <td>RT @knuck13head: @doc_bitcoin https://t.co/Ffc...</td>\n",
       "    </tr>\n",
       "    <tr>\n",
       "      <th>34</th>\n",
       "      <td>@paidthruxchange Bitcoin</td>\n",
       "    </tr>\n",
       "    <tr>\n",
       "      <th>35</th>\n",
       "      <td>Long/Short Bitcoin changes with up to 100x Lev...</td>\n",
       "    </tr>\n",
       "    <tr>\n",
       "      <th>36</th>\n",
       "      <td>I liked a @YouTube video https://t.co/j0mJpCF0...</td>\n",
       "    </tr>\n",
       "    <tr>\n",
       "      <th>37</th>\n",
       "      <td>RT @murthaburke: SKYFCHAIN IS THE FIRST B2R (B...</td>\n",
       "    </tr>\n",
       "    <tr>\n",
       "      <th>38</th>\n",
       "      <td>@bitcoinwhales If we can take down an entire #...</td>\n",
       "    </tr>\n",
       "    <tr>\n",
       "      <th>39</th>\n",
       "      <td>Market is starting to turn back up... #crypto ...</td>\n",
       "    </tr>\n",
       "    <tr>\n",
       "      <th>40</th>\n",
       "      <td>Bitcoin is dead again. 😰😪😥  ☠️✝️🙏 Oh please ev...</td>\n",
       "    </tr>\n",
       "    <tr>\n",
       "      <th>41</th>\n",
       "      <td>Bitcoin is the future\\n\\n#bitcoinminer #bitcoi...</td>\n",
       "    </tr>\n",
       "    <tr>\n",
       "      <th>42</th>\n",
       "      <td>Clearly the price of TBC is attached to someth...</td>\n",
       "    </tr>\n",
       "    <tr>\n",
       "      <th>43</th>\n",
       "      <td>RT @murthaburke: Hot New Pre-Sale Crypto ICO! ...</td>\n",
       "    </tr>\n",
       "    <tr>\n",
       "      <th>44</th>\n",
       "      <td>RT @VchExchange: サッカー☆ #ワールドカップ 応援 ☆イベント②\\n\\n#...</td>\n",
       "    </tr>\n",
       "    <tr>\n",
       "      <th>45</th>\n",
       "      <td>Bitcoin price index https://t.co/o7UcHJUhC6 #U...</td>\n",
       "    </tr>\n",
       "    <tr>\n",
       "      <th>46</th>\n",
       "      <td>RT @bitPico: The #bcash $bch ⁦@rogerkver⁩ cont...</td>\n",
       "    </tr>\n",
       "    <tr>\n",
       "      <th>47</th>\n",
       "      <td>Bear market is a good time to study #bitcoin #...</td>\n",
       "    </tr>\n",
       "    <tr>\n",
       "      <th>48</th>\n",
       "      <td>RT @coindesk: The SEC is Seeking Comment on Ye...</td>\n",
       "    </tr>\n",
       "    <tr>\n",
       "      <th>49</th>\n",
       "      <td>RT @jirosancoin: 7月以降の仮想通貨には少し期待が持てるかも。 https:...</td>\n",
       "    </tr>\n",
       "  </tbody>\n",
       "</table>\n",
       "</div>"
      ],
      "text/plain": [
       "                                               Tweets\n",
       "0   RT @Richard_trades: Do you know you can earn u...\n",
       "1   RT @murthaburke: Essentia ICO - A Masternoded ...\n",
       "2   RT @murthaburke: Essentia ICO - A Masternoded ...\n",
       "3   RT @celilozturk24: ANYTHING APP AIRDROP 📢⭐⭐⭐⭐⭐...\n",
       "4   RT @TheCryptoDog: @Fergulati Damn right.\\n\\nAn...\n",
       "5   @brian_armstrong Great, this was the orig conc...\n",
       "6   RT @angela_walch: @LukeDashjr @socrates1024 Wo...\n",
       "7   RT @murthaburke: KWATT Coin ICO - Tokenized El...\n",
       "8   RT @DaveSimonoff: $BTC Bounce from 6000 is in ...\n",
       "9   Where Will Bitcoin and Blockchain Fit in the B...\n",
       "10  2018 Cryptocurrency Survey Finds Bitcoin Most ...\n",
       "11  @doc_bitcoin @knuck13head ZRX will hit 5B mark...\n",
       "12  RT @HippocratesNews: #Bitcoin #carnivores?\\nht...\n",
       "13  RT @uncloakio: “The Coinrail attack highlights...\n",
       "14  RT @EvelynGinossi: Bitcoin, Ethereum, Ripple, ...\n",
       "15  Bitcoin Origin aims to create the world's firs...\n",
       "16  RT @EthereumZ: 🚀Be one to receive Ethereum zer...\n",
       "17  RT @golixdotcom: 1. Sign up to https://t.co/fW...\n",
       "18  Bitcoin is ‘Amazing’ but Blockchain Is a ‘Bubb...\n",
       "19  RT @qurrex: #qurrex #public #ICO will end in 3...\n",
       "20  Join our pump group for fast bitcoin\\n\\nhttps:...\n",
       "21  Crypto 2018 #bitcoin #crypto https://t.co/mLiN...\n",
       "22  RT @SHIELDcurrency: This is for the curious on...\n",
       "23  RT @loi_luu: I’m still surprised that people a...\n",
       "24  @matt_odell I'm of the opinion that bitcoin's ...\n",
       "25  RT @qurrex: ONLY 3 DAYS LEFT #Qurrex #TokenSal...\n",
       "26  RT @loi_luu: I’m still surprised that people a...\n",
       "27  Guys we are getting a overwhelming response to...\n",
       "28  Long/Short Bitcoin moves with up to 100x Lever...\n",
       "29  RT @FortuneMagazine: Apple co-founder Steve Wo...\n",
       "30  RT @gomente_coin: 文字数多いけど読みやすい。Bitcoinの何が偉大だった...\n",
       "31  RT @murthaburke: New Hot Crypto ICO Join Now!!...\n",
       "32  RT @btc: In case you forgot, bitcoin rose from...\n",
       "33  RT @knuck13head: @doc_bitcoin https://t.co/Ffc...\n",
       "34                           @paidthruxchange Bitcoin\n",
       "35  Long/Short Bitcoin changes with up to 100x Lev...\n",
       "36  I liked a @YouTube video https://t.co/j0mJpCF0...\n",
       "37  RT @murthaburke: SKYFCHAIN IS THE FIRST B2R (B...\n",
       "38  @bitcoinwhales If we can take down an entire #...\n",
       "39  Market is starting to turn back up... #crypto ...\n",
       "40  Bitcoin is dead again. 😰😪😥  ☠️✝️🙏 Oh please ev...\n",
       "41  Bitcoin is the future\\n\\n#bitcoinminer #bitcoi...\n",
       "42  Clearly the price of TBC is attached to someth...\n",
       "43  RT @murthaburke: Hot New Pre-Sale Crypto ICO! ...\n",
       "44  RT @VchExchange: サッカー☆ #ワールドカップ 応援 ☆イベント②\\n\\n#...\n",
       "45  Bitcoin price index https://t.co/o7UcHJUhC6 #U...\n",
       "46  RT @bitPico: The #bcash $bch ⁦@rogerkver⁩ cont...\n",
       "47  Bear market is a good time to study #bitcoin #...\n",
       "48  RT @coindesk: The SEC is Seeking Comment on Ye...\n",
       "49  RT @jirosancoin: 7月以降の仮想通貨には少し期待が持てるかも。 https:..."
      ]
     },
     "metadata": {},
     "output_type": "display_data"
    }
   ],
   "source": [
    "display(data)"
   ]
  },
  {
   "cell_type": "code",
   "execution_count": 95,
   "metadata": {},
   "outputs": [],
   "source": [
    "from textblob import TextBlob\n",
    "import re\n",
    "\n",
    "def clean_tweet(tweet):\n",
    "    return ' '.join(re.sub(\"(@[A-Za-z0-9]+)|([^0-9A-Za-z \\t])|(\\w+:\\/\\/\\S+)\", \" \", tweet).split())\n",
    "\n",
    "def analize_sentiment(tweet):\n",
    "    analysis = TextBlob(clean_tweet(tweet))\n",
    "    if analysis.sentiment.polarity > 0:\n",
    "        return 1\n",
    "    elif analysis.sentiment.polarity == 0:\n",
    "        return 0\n",
    "    else:\n",
    "        return -1\n"
   ]
  },
  {
   "cell_type": "code",
   "execution_count": 107,
   "metadata": {},
   "outputs": [],
   "source": [
    "data['SAnalysis'] = np.array([ analize_sentiment(tweet) for tweet in data['Tweets'] ])"
   ]
  },
  {
   "cell_type": "code",
   "execution_count": 108,
   "metadata": {},
   "outputs": [
    {
     "name": "stdout",
     "output_type": "stream",
     "text": [
      "                                               Tweets  SAnalysis\n",
      "0   RT @Richard_trades: Do you know you can earn u...          0\n",
      "1   RT @murthaburke: Essentia ICO - A Masternoded ...          0\n",
      "2   RT @murthaburke: Essentia ICO - A Masternoded ...          0\n",
      "3   RT @celilozturk24: ANYTHING APP AIRDROP 📢⭐⭐⭐⭐⭐...          1\n",
      "4   RT @TheCryptoDog: @Fergulati Damn right.\\n\\nAn...          1\n",
      "5   @brian_armstrong Great, this was the orig conc...          1\n",
      "6   RT @angela_walch: @LukeDashjr @socrates1024 Wo...         -1\n",
      "7   RT @murthaburke: KWATT Coin ICO - Tokenized El...          0\n",
      "8   RT @DaveSimonoff: $BTC Bounce from 6000 is in ...          1\n",
      "9   Where Will Bitcoin and Blockchain Fit in the B...          1\n",
      "10  2018 Cryptocurrency Survey Finds Bitcoin Most ...          1\n",
      "11  @doc_bitcoin @knuck13head ZRX will hit 5B mark...          1\n",
      "12  RT @HippocratesNews: #Bitcoin #carnivores?\\nht...          0\n",
      "13  RT @uncloakio: “The Coinrail attack highlights...          0\n",
      "14  RT @EvelynGinossi: Bitcoin, Ethereum, Ripple, ...          1\n",
      "15  Bitcoin Origin aims to create the world's firs...          1\n",
      "16  RT @EthereumZ: 🚀Be one to receive Ethereum zer...          0\n",
      "17  RT @golixdotcom: 1. Sign up to https://t.co/fW...          0\n",
      "18  Bitcoin is ‘Amazing’ but Blockchain Is a ‘Bubb...          1\n",
      "19  RT @qurrex: #qurrex #public #ICO will end in 3...          0\n",
      "20  Join our pump group for fast bitcoin\\n\\nhttps:...          1\n",
      "21  Crypto 2018 #bitcoin #crypto https://t.co/mLiN...          0\n",
      "22  RT @SHIELDcurrency: This is for the curious on...         -1\n",
      "23  RT @loi_luu: I’m still surprised that people a...          1\n",
      "24  @matt_odell I'm of the opinion that bitcoin's ...          1\n",
      "25  RT @qurrex: ONLY 3 DAYS LEFT #Qurrex #TokenSal...          0\n",
      "26  RT @loi_luu: I’m still surprised that people a...          1\n",
      "27  Guys we are getting a overwhelming response to...          1\n",
      "28  Long/Short Bitcoin moves with up to 100x Lever...         -1\n",
      "29  RT @FortuneMagazine: Apple co-founder Steve Wo...          0\n",
      "30  RT @gomente_coin: 文字数多いけど読みやすい。Bitcoinの何が偉大だった...          0\n",
      "31  RT @murthaburke: New Hot Crypto ICO Join Now!!...          1\n",
      "32  RT @btc: In case you forgot, bitcoin rose from...          1\n",
      "33  RT @knuck13head: @doc_bitcoin https://t.co/Ffc...          0\n",
      "34                           @paidthruxchange Bitcoin          0\n",
      "35  Long/Short Bitcoin changes with up to 100x Lev...         -1\n",
      "36  I liked a @YouTube video https://t.co/j0mJpCF0...          1\n",
      "37  RT @murthaburke: SKYFCHAIN IS THE FIRST B2R (B...          1\n",
      "38  @bitcoinwhales If we can take down an entire #...          1\n",
      "39  Market is starting to turn back up... #crypto ...          0\n",
      "40  Bitcoin is dead again. 😰😪😥  ☠️✝️🙏 Oh please ev...          1\n",
      "41  Bitcoin is the future\\n\\n#bitcoinminer #bitcoi...          0\n",
      "42  Clearly the price of TBC is attached to someth...          1\n",
      "43  RT @murthaburke: Hot New Pre-Sale Crypto ICO! ...          1\n",
      "44  RT @VchExchange: サッカー☆ #ワールドカップ 応援 ☆イベント②\\n\\n#...          0\n",
      "45  Bitcoin price index https://t.co/o7UcHJUhC6 #U...          0\n",
      "46  RT @bitPico: The #bcash $bch ⁦@rogerkver⁩ cont...          0\n",
      "47  Bear market is a good time to study #bitcoin #...          1\n",
      "48  RT @coindesk: The SEC is Seeking Comment on Ye...         -1\n",
      "49  RT @jirosancoin: 7月以降の仮想通貨には少し期待が持てるかも。 https:...          0\n"
     ]
    }
   ],
   "source": [
    "print (data)"
   ]
  },
  {
   "cell_type": "code",
   "execution_count": 98,
   "metadata": {},
   "outputs": [],
   "source": [
    "import seaborn as sns\n"
   ]
  },
  {
   "cell_type": "code",
   "execution_count": 131,
   "metadata": {},
   "outputs": [
    {
     "name": "stdout",
     "output_type": "stream",
     "text": [
      "0.38\n"
     ]
    },
    {
     "data": {
      "image/png": "[encoded data removed]",
      "text/plain": [
       "<Figure size 432x288 with 1 Axes>"
      ]
     },
     "metadata": {},
     "output_type": "display_data"
    }
   ],
   "source": [
    "bitcoin = sns.countplot(data['SAnalysis'],data=data)\n",
    "avg_bitcoin = data['SAnalysis'].mean()\n",
    "print (data['SAnalysis'].mean())"
   ]
  },
  {
   "cell_type": "code",
   "execution_count": 113,
   "metadata": {},
   "outputs": [],
   "source": [
    "eth_tweets = tweepy.Cursor(api.search, q='ethereum',since='2018-06-27', until='2018-06-28').items(50)\n",
    "eth_data = pd.DataFrame(data=[tweet.text for tweet in eth_tweets], columns=['Tweets'])\n",
    "eth_data['SAnalysis'] = np.array([ analize_sentiment(tweet) for tweet in eth_data['Tweets']])\n",
    "\n",
    "lite_tweets = tweepy.Cursor(api.search, q='litecoin',since='2018-06-27', until='2018-06-28').items(50)\n",
    "lite_data = pd.DataFrame(data=[tweet.text for tweet in lite_tweets], columns=['Tweets'])\n",
    "lite_data['SAnalysis'] = np.array([ analize_sentiment(tweet) for tweet in lite_data['Tweets'] ])\n",
    "\n",
    "ripple_tweets = tweepy.Cursor(api.search, q='ripple',since='2018-06-27', until='2018-06-28').items(50)\n",
    "ripple_data = pd.DataFrame(data=[tweet.text for tweet in ripple_tweets], columns=['Tweets'])\n",
    "ripple_data['SAnalysis'] = np.array([ analize_sentiment(tweet) for tweet in ripple_data['Tweets'] ])"
   ]
  },
  {
   "cell_type": "code",
   "execution_count": 124,
   "metadata": {},
   "outputs": [
    {
     "name": "stdout",
     "output_type": "stream",
     "text": [
      "Average sentiment of ethereum is  0.46\n",
      "AxesSubplot(0.125,0.125;0.775x0.755)\n"
     ]
    },
    {
     "data": {
      "image/png": "[encoded data removed]",
      "text/plain": [
       "<Figure size 432x288 with 1 Axes>"
      ]
     },
     "metadata": {},
     "output_type": "display_data"
    }
   ],
   "source": [
    "ethereum = sns.countplot(eth_data['SAnalysis'],data=data)\n",
    "avg_eth = eth_data['SAnalysis'].mean()\n",
    "print ('Average sentiment of ethereum is ',eth_data['SAnalysis'].mean())\n",
    "\n",
    "print (ethereum)"
   ]
  },
  {
   "cell_type": "code",
   "execution_count": 125,
   "metadata": {},
   "outputs": [
    {
     "name": "stdout",
     "output_type": "stream",
     "text": [
      "Average sentiment of litecoin is  0.52\n",
      "AxesSubplot(0.125,0.125;0.775x0.755)\n"
     ]
    },
    {
     "data": {
      "image/png": "[encoded data removed]",
      "text/plain": [
       "<Figure size 432x288 with 1 Axes>"
      ]
     },
     "metadata": {},
     "output_type": "display_data"
    }
   ],
   "source": [
    "litecoin = sns.countplot(lite_data['SAnalysis'],data=data)\n",
    "avg_lite = lite_data['SAnalysis'].mean()\n",
    "print ('Average sentiment of litecoin is ',lite_data['SAnalysis'].mean())\n",
    "\n",
    "print (litecoin)"
   ]
  },
  {
   "cell_type": "code",
   "execution_count": 126,
   "metadata": {},
   "outputs": [
    {
     "name": "stdout",
     "output_type": "stream",
     "text": [
      "Average sentiment of ripple is  0.48\n",
      "AxesSubplot(0.125,0.125;0.775x0.755)\n"
     ]
    },
    {
     "data": {
      "image/png": "[encoded data removed]",
      "text/plain": [
       "<Figure size 432x288 with 1 Axes>"
      ]
     },
     "metadata": {},
     "output_type": "display_data"
    }
   ],
   "source": [
    "ripple = sns.countplot(ripple_data['SAnalysis'],data=data)\n",
    "avg_ripple = ripple_data['SAnalysis'].mean()\n",
    "print ('Average sentiment of ripple is ',ripple_data['SAnalysis'].mean())\n",
    "\n",
    "print (ripple)"
   ]
  },
  {
   "cell_type": "code",
   "execution_count": 133,
   "metadata": {},
   "outputs": [
    {
     "data": {
      "text/plain": [
       "<BarContainer object of 4 artists>"
      ]
     },
     "execution_count": 133,
     "metadata": {},
     "output_type": "execute_result"
    },
    {
     "data": {
      "image/png": "[encoded data removed]",
      "text/plain": [
       "<Figure size 432x288 with 1 Axes>"
      ]
     },
     "metadata": {},
     "output_type": "display_data"
    }
   ],
   "source": [
    "x = ['bitcoin','ethereum','litecoin','ripple']\n",
    "y = [avg_bitcoin,avg_eth,avg_lite,avg_ripple]\n",
    "plt.bar(x,y)"
   ]
  },
  {
   "cell_type": "code",
   "execution_count": null,
   "metadata": {},
   "outputs": [],
   "source": []
  }
 ],
 "metadata": {
  "kernelspec": {
   "display_name": "Python 3",
   "language": "python",
   "name": "python3"
  },
  "language_info": {
   "codemirror_mode": {
    "name": "ipython",
    "version": 3
   },
   "file_extension": ".py",
   "mimetype": "text/x-python",
   "name": "python",
   "nbconvert_exporter": "python",
   "pygments_lexer": "ipython3",
   "version": "3.6.5"
  }
 },
 "nbformat": 4,
 "nbformat_minor": 2
}
