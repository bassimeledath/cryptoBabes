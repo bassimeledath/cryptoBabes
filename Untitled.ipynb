{
 "cells": [
  {
   "cell_type": "code",
   "execution_count": 3,
   "metadata": {},
   "outputs": [
    {
     "name": "stdout",
     "output_type": "stream",
     "text": [
      "          id       price    amount   sell                 date\n",
      "0  183601815  7349.60000  0.004568  False  2018-02-02 02:00:08\n",
      "1  183601825  7354.68045  0.010000   True  2018-02-02 02:00:09\n",
      "2  183601823  7354.68045  0.004568   True  2018-02-02 02:00:09\n",
      "3  183601833  7354.60000  0.102395  False  2018-02-02 02:00:10\n",
      "4  183601904  7343.40750  0.086580  False  2018-02-02 02:00:26\n",
      "5  183601906  7343.80725  0.204920  False  2018-02-02 02:00:26\n",
      "6  183602055  7356.00000  0.300000  False  2018-02-02 02:00:38\n",
      "7  183602057  7357.90000  0.088007  False  2018-02-02 02:00:38\n",
      "8  183602052  7355.80000  0.100000  False  2018-02-02 02:00:38\n",
      "9  183602064  7343.16765  0.088007  False  2018-02-02 02:00:39\n"
     ]
    }
   ],
   "source": [
    "import pandas as pd \n",
    "\n",
    "data = pd.read_csv('datawithnewdate.csv')\n",
    "data_short = data.head(10)\n",
    "print (data_short)"
   ]
  },
  {
   "cell_type": "code",
   "execution_count": 16,
   "metadata": {},
   "outputs": [],
   "source": [
    "list = [x for x in data['date'].values]"
   ]
  },
  {
   "cell_type": "code",
   "execution_count": 25,
   "metadata": {},
   "outputs": [],
   "source": [
    "test = []\n",
    "for date in list:\n",
    "    trys = date.split()\n",
    "    test.append(trys)\n",
    "\n",
    "date = []\n",
    "time = []\n",
    "for x in test:\n",
    "    date.append(x[0])\n",
    "    time.append(x[1])\n",
    "date = pd.Series(date)\n",
    "time = pd.Series(time)"
   ]
  },
  {
   "cell_type": "code",
   "execution_count": 34,
   "metadata": {},
   "outputs": [
    {
     "name": "stdout",
     "output_type": "stream",
     "text": [
      "          id       price    amount   sell        date      time\n",
      "0  183601815  7349.60000  0.004568  False  2018-02-02  02:00:08\n",
      "1  183601825  7354.68045  0.010000   True  2018-02-02  02:00:09\n",
      "2  183601823  7354.68045  0.004568   True  2018-02-02  02:00:09\n",
      "3  183601833  7354.60000  0.102395  False  2018-02-02  02:00:10\n",
      "4  183601904  7343.40750  0.086580  False  2018-02-02  02:00:26\n"
     ]
    }
   ],
   "source": [
    "data['time'] = time\n",
    "data['date'] = date\n",
    "print (data.head())"
   ]
  },
  {
   "cell_type": "code",
   "execution_count": 35,
   "metadata": {},
   "outputs": [],
   "source": [
    "data.to_csv('data_edited.csv')"
   ]
  },
  {
   "cell_type": "code",
   "execution_count": null,
   "metadata": {},
   "outputs": [],
   "source": []
  }
 ],
 "metadata": {
  "kernelspec": {
   "display_name": "Python 3",
   "language": "python",
   "name": "python3"
  },
  "language_info": {
   "codemirror_mode": {
    "name": "ipython",
    "version": 3
   },
   "file_extension": ".py",
   "mimetype": "text/x-python",
   "name": "python",
   "nbconvert_exporter": "python",
   "pygments_lexer": "ipython3",
   "version": "3.6.4"
  }
 },
 "nbformat": 4,
 "nbformat_minor": 2
}
