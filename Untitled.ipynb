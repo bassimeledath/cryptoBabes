{
 "cells": [
  {
   "cell_type": "code",
   "execution_count": 30,
   "metadata": {},
   "outputs": [
    {
     "name": "stdout",
     "output_type": "stream",
     "text": [
      "          id       price    amount   sell                 date\n",
      "0  183601815  7349.60000  0.004568  False  2018-02-02 02:00:08\n",
      "1  183601825  7354.68045  0.010000   True  2018-02-02 02:00:09\n",
      "2  183601823  7354.68045  0.004568   True  2018-02-02 02:00:09\n",
      "3  183601833  7354.60000  0.102395  False  2018-02-02 02:00:10\n",
      "4  183601904  7343.40750  0.086580  False  2018-02-02 02:00:26\n",
      "5  183601906  7343.80725  0.204920  False  2018-02-02 02:00:26\n",
      "6  183602055  7356.00000  0.300000  False  2018-02-02 02:00:38\n",
      "7  183602057  7357.90000  0.088007  False  2018-02-02 02:00:38\n",
      "8  183602052  7355.80000  0.100000  False  2018-02-02 02:00:38\n",
      "9  183602064  7343.16765  0.088007  False  2018-02-02 02:00:39\n"
     ]
    }
   ],
   "source": [
    "import pandas as pd \n",
    "\n",
    "data = pd.read_csv('datawithnewdate.csv')\n",
    "data_short = data.head(10)\n",
    "print (data_short)"
   ]
  },
  {
   "cell_type": "code",
   "execution_count": 31,
   "metadata": {},
   "outputs": [
    {
     "data": {
      "text/plain": [
       "Index(['id', 'price', 'amount', 'sell', 'date'], dtype='object')"
      ]
     },
     "execution_count": 31,
     "metadata": {},
     "output_type": "execute_result"
    }
   ],
   "source": [
    "data.columns"
   ]
  },
  {
   "cell_type": "code",
   "execution_count": 32,
   "metadata": {},
   "outputs": [
    {
     "name": "stdout",
     "output_type": "stream",
     "text": [
      "(15715, 5)\n"
     ]
    }
   ],
   "source": [
    "list = [x for x in data['date'].values]\n",
    "print (data.shape)"
   ]
  },
  {
   "cell_type": "code",
   "execution_count": 33,
   "metadata": {},
   "outputs": [],
   "source": [
    "test = []\n",
    "for date in list:\n",
    "    trys = date.split()\n",
    "    test.append(trys)\n",
    "\n",
    "date = []\n",
    "time = []\n",
    "for x in test:\n",
    "    date.append(x[0])\n",
    "    time.append(x[1])\n",
    "date = pd.Series(date)\n",
    "time = pd.Series(time)"
   ]
  },
  {
   "cell_type": "code",
   "execution_count": 34,
   "metadata": {},
   "outputs": [
    {
     "name": "stdout",
     "output_type": "stream",
     "text": [
      "           id        price    amount   sell        date      time\n",
      "0   183601815  7349.600000  0.004568  False  2018-02-02  02:00:08\n",
      "1   183601825  7354.680450  0.010000   True  2018-02-02  02:00:09\n",
      "2   183601823  7354.680450  0.004568   True  2018-02-02  02:00:09\n",
      "3   183601833  7354.600000  0.102395  False  2018-02-02  02:00:10\n",
      "4   183601904  7343.407500  0.086580  False  2018-02-02  02:00:26\n",
      "5   183601906  7343.807250  0.204920  False  2018-02-02  02:00:26\n",
      "6   183602055  7356.000000  0.300000  False  2018-02-02  02:00:38\n",
      "7   183602057  7357.900000  0.088007  False  2018-02-02  02:00:38\n",
      "8   183602052  7355.800000  0.100000  False  2018-02-02  02:00:38\n",
      "9   183602064  7343.167650  0.088007  False  2018-02-02  02:00:39\n",
      "10  183602333  7352.281950  0.002000   True  2018-02-02  02:01:15\n",
      "11  183602610  7351.320200  0.300000   True  2018-02-02  02:01:55\n",
      "12  183602612  7351.320200  0.300000   True  2018-02-02  02:01:55\n",
      "13  183602618  7348.321701  0.300000   True  2018-02-02  02:01:55\n",
      "14  183602629  7339.326204  0.300000   True  2018-02-02  02:01:55\n",
      "15  183602624  7344.323702  0.300000   True  2018-02-02  02:01:55\n",
      "16  183602627  7339.825954  0.100000   True  2018-02-02  02:01:55\n",
      "17  183602676  7338.854490  0.004885   True  2018-02-02  02:02:00\n",
      "18  183602733  7338.934400  0.070000  False  2018-02-02  02:02:07\n",
      "19  183602739  7340.372780  0.202579  False  2018-02-02  02:02:07\n",
      "20  183602735  7339.653590  0.400000  False  2018-02-02  02:02:07\n",
      "21  183602731  7338.934400  0.021287  False  2018-02-02  02:02:07\n",
      "22  183602737  7339.653590  0.600000  False  2018-02-02  02:02:07\n",
      "23  183602772  7361.900000  0.599912  False  2018-02-02  02:02:11\n",
      "24  183602835  7339.900000  0.171953   True  2018-02-02  02:02:19\n",
      "25  183602844  7339.900000  0.420000   True  2018-02-02  02:02:21\n",
      "26  183602895  7339.893320  0.241449  False  2018-02-02  02:02:36\n",
      "27  183603483  7334.700000  1.000000   True  2018-02-02  02:04:31\n",
      "28  183604043  7311.765000  0.591953   True  2018-02-02  02:05:02\n",
      "29  183604261  7300.000000  0.010000   True  2018-02-02  02:05:15\n",
      "30  183604272  7297.700000  0.100000   True  2018-02-02  02:05:16\n",
      "31  183604431  7296.582100  0.015191  False  2018-02-02  02:05:24\n",
      "32  183604435  7292.100000  0.500000   True  2018-02-02  02:05:24\n",
      "33  183606831  7271.810000  0.012833   True  2018-02-02  02:07:10\n",
      "34  183607192  7271.810000  0.600000   True  2018-02-02  02:07:36\n",
      "35  183607716  7251.900000  0.010000   True  2018-02-02  02:08:05\n",
      "36  183607743  7251.900000  0.010785   True  2018-02-02  02:08:05\n",
      "37  183607860  7251.500000  0.135263   True  2018-02-02  02:08:10\n",
      "38  183607846  7251.400000  0.288302   True  2018-02-02  02:08:10\n",
      "39  183607841  7251.400000  0.076310   True  2018-02-02  02:08:10\n",
      "40  183607843  7251.400000  0.079340   True  2018-02-02  02:08:10\n",
      "41  183608191  7249.000000  0.400000  False  2018-02-02  02:08:41\n",
      "42  183608405  7268.500000  0.100000  False  2018-02-02  02:08:48\n",
      "43  183608407  7269.000000  0.300000  False  2018-02-02  02:08:49\n",
      "44  183608734  7279.800000  0.100000  False  2018-02-02  02:09:01\n",
      "45  183608736  7280.000000  0.296267  False  2018-02-02  02:09:01\n",
      "46  183608846  7290.000000  0.600000  False  2018-02-02  02:09:04\n",
      "47  183608902  7287.792000  0.060040   True  2018-02-02  02:09:06\n",
      "48  183608985  7295.000000  0.300000  False  2018-02-02  02:09:09\n",
      "49  183608994  7298.000000  0.300000  False  2018-02-02  02:09:09\n",
      "50  183610102  7251.200000  0.600000   True  2018-02-02  02:10:11\n",
      "51  183610141  7250.234300  0.002004  False  2018-02-02  02:10:22\n",
      "52  183610415  7238.000000  0.100000   True  2018-02-02  02:10:28\n",
      "53  183610413  7238.000000  0.128165   True  2018-02-02  02:10:28\n",
      "54  183610538  7242.000000  0.010000   True  2018-02-02  02:10:34\n",
      "55  183610911  7238.000000  0.071835   True  2018-02-02  02:10:50\n",
      "56  183611021  7237.000000  0.090518   True  2018-02-02  02:10:55\n",
      "57  183611023  7237.000000  0.010010   True  2018-02-02  02:10:55\n",
      "58  183611319  7241.200000  0.900000   True  2018-02-02  02:11:17\n",
      "59  183611292  7241.200000  0.100000   True  2018-02-02  02:11:17\n"
     ]
    }
   ],
   "source": [
    "data['time'] = time\n",
    "data['date'] = date\n",
    "print (data.head(60))"
   ]
  },
  {
   "cell_type": "code",
   "execution_count": 35,
   "metadata": {},
   "outputs": [],
   "source": [
    "minute = []\n",
    "list = [x.split(':') for x in time]\n",
    "hours = []\n",
    "minutes = []\n",
    "seconds = []\n",
    "\n",
    "for x in list:\n",
    "    hours.append(x[0])\n",
    "    minutes.append(x[1])\n",
    "    seconds.append(x[2])\n",
    "\n",
    "hours = pd.Series(hours)\n",
    "minutes = pd.Series(minutes)\n",
    "seconds = pd.Series(seconds)"
   ]
  },
  {
   "cell_type": "code",
   "execution_count": 36,
   "metadata": {},
   "outputs": [],
   "source": [
    "data['hours'] = hours\n",
    "data['minutes'] = minutes\n",
    "data['seconds'] = seconds"
   ]
  },
  {
   "cell_type": "code",
   "execution_count": 37,
   "metadata": {},
   "outputs": [
    {
     "data": {
      "text/html": [
       "<div>\n",
       "<style scoped>\n",
       "    .dataframe tbody tr th:only-of-type {\n",
       "        vertical-align: middle;\n",
       "    }\n",
       "\n",
       "    .dataframe tbody tr th {\n",
       "        vertical-align: top;\n",
       "    }\n",
       "\n",
       "    .dataframe thead th {\n",
       "        text-align: right;\n",
       "    }\n",
       "</style>\n",
       "<table border=\"1\" class=\"dataframe\">\n",
       "  <thead>\n",
       "    <tr style=\"text-align: right;\">\n",
       "      <th></th>\n",
       "      <th>id</th>\n",
       "      <th>price</th>\n",
       "      <th>amount</th>\n",
       "      <th>sell</th>\n",
       "      <th>date</th>\n",
       "      <th>time</th>\n",
       "      <th>hours</th>\n",
       "      <th>minutes</th>\n",
       "      <th>seconds</th>\n",
       "    </tr>\n",
       "  </thead>\n",
       "  <tbody>\n",
       "    <tr>\n",
       "      <th>0</th>\n",
       "      <td>183601815</td>\n",
       "      <td>7349.60000</td>\n",
       "      <td>0.004568</td>\n",
       "      <td>False</td>\n",
       "      <td>2018-02-02</td>\n",
       "      <td>02:00:08</td>\n",
       "      <td>02</td>\n",
       "      <td>00</td>\n",
       "      <td>08</td>\n",
       "    </tr>\n",
       "    <tr>\n",
       "      <th>1</th>\n",
       "      <td>183601825</td>\n",
       "      <td>7354.68045</td>\n",
       "      <td>0.010000</td>\n",
       "      <td>True</td>\n",
       "      <td>2018-02-02</td>\n",
       "      <td>02:00:09</td>\n",
       "      <td>02</td>\n",
       "      <td>00</td>\n",
       "      <td>09</td>\n",
       "    </tr>\n",
       "    <tr>\n",
       "      <th>2</th>\n",
       "      <td>183601823</td>\n",
       "      <td>7354.68045</td>\n",
       "      <td>0.004568</td>\n",
       "      <td>True</td>\n",
       "      <td>2018-02-02</td>\n",
       "      <td>02:00:09</td>\n",
       "      <td>02</td>\n",
       "      <td>00</td>\n",
       "      <td>09</td>\n",
       "    </tr>\n",
       "    <tr>\n",
       "      <th>3</th>\n",
       "      <td>183601833</td>\n",
       "      <td>7354.60000</td>\n",
       "      <td>0.102395</td>\n",
       "      <td>False</td>\n",
       "      <td>2018-02-02</td>\n",
       "      <td>02:00:10</td>\n",
       "      <td>02</td>\n",
       "      <td>00</td>\n",
       "      <td>10</td>\n",
       "    </tr>\n",
       "    <tr>\n",
       "      <th>4</th>\n",
       "      <td>183601904</td>\n",
       "      <td>7343.40750</td>\n",
       "      <td>0.086580</td>\n",
       "      <td>False</td>\n",
       "      <td>2018-02-02</td>\n",
       "      <td>02:00:26</td>\n",
       "      <td>02</td>\n",
       "      <td>00</td>\n",
       "      <td>26</td>\n",
       "    </tr>\n",
       "  </tbody>\n",
       "</table>\n",
       "</div>"
      ],
      "text/plain": [
       "          id       price    amount   sell        date      time hours minutes  \\\n",
       "0  183601815  7349.60000  0.004568  False  2018-02-02  02:00:08    02      00   \n",
       "1  183601825  7354.68045  0.010000   True  2018-02-02  02:00:09    02      00   \n",
       "2  183601823  7354.68045  0.004568   True  2018-02-02  02:00:09    02      00   \n",
       "3  183601833  7354.60000  0.102395  False  2018-02-02  02:00:10    02      00   \n",
       "4  183601904  7343.40750  0.086580  False  2018-02-02  02:00:26    02      00   \n",
       "\n",
       "  seconds  \n",
       "0      08  \n",
       "1      09  \n",
       "2      09  \n",
       "3      10  \n",
       "4      26  "
      ]
     },
     "execution_count": 37,
     "metadata": {},
     "output_type": "execute_result"
    }
   ],
   "source": [
    "data.head()"
   ]
  },
  {
   "cell_type": "code",
   "execution_count": 57,
   "metadata": {},
   "outputs": [],
   "source": [
    "data.to_csv('data.csv')"
   ]
  },
  {
   "cell_type": "code",
   "execution_count": 38,
   "metadata": {},
   "outputs": [
    {
     "data": {
      "text/plain": [
       "Index(['id', 'price', 'amount', 'sell', 'date', 'time', 'hours', 'minutes',\n",
       "       'seconds'],\n",
       "      dtype='object')"
      ]
     },
     "execution_count": 38,
     "metadata": {},
     "output_type": "execute_result"
    }
   ],
   "source": [
    "data.columns"
   ]
  },
  {
   "cell_type": "code",
   "execution_count": 39,
   "metadata": {},
   "outputs": [
    {
     "data": {
      "text/html": [
       "<div>\n",
       "<style scoped>\n",
       "    .dataframe tbody tr th:only-of-type {\n",
       "        vertical-align: middle;\n",
       "    }\n",
       "\n",
       "    .dataframe tbody tr th {\n",
       "        vertical-align: top;\n",
       "    }\n",
       "\n",
       "    .dataframe thead th {\n",
       "        text-align: right;\n",
       "    }\n",
       "</style>\n",
       "<table border=\"1\" class=\"dataframe\">\n",
       "  <thead>\n",
       "    <tr style=\"text-align: right;\">\n",
       "      <th></th>\n",
       "      <th>id</th>\n",
       "      <th>price</th>\n",
       "      <th>amount</th>\n",
       "    </tr>\n",
       "  </thead>\n",
       "  <tbody>\n",
       "    <tr>\n",
       "      <th>count</th>\n",
       "      <td>1.571500e+04</td>\n",
       "      <td>15715.000000</td>\n",
       "      <td>15715.000000</td>\n",
       "    </tr>\n",
       "    <tr>\n",
       "      <th>mean</th>\n",
       "      <td>1.843726e+08</td>\n",
       "      <td>6944.705870</td>\n",
       "      <td>0.363908</td>\n",
       "    </tr>\n",
       "    <tr>\n",
       "      <th>std</th>\n",
       "      <td>4.061195e+05</td>\n",
       "      <td>220.682866</td>\n",
       "      <td>0.954616</td>\n",
       "    </tr>\n",
       "    <tr>\n",
       "      <th>min</th>\n",
       "      <td>1.836018e+08</td>\n",
       "      <td>6377.000000</td>\n",
       "      <td>0.000001</td>\n",
       "    </tr>\n",
       "    <tr>\n",
       "      <th>25%</th>\n",
       "      <td>1.840329e+08</td>\n",
       "      <td>6787.580973</td>\n",
       "      <td>0.027552</td>\n",
       "    </tr>\n",
       "    <tr>\n",
       "      <th>50%</th>\n",
       "      <td>1.843920e+08</td>\n",
       "      <td>6985.000000</td>\n",
       "      <td>0.100000</td>\n",
       "    </tr>\n",
       "    <tr>\n",
       "      <th>75%</th>\n",
       "      <td>1.847168e+08</td>\n",
       "      <td>7098.904860</td>\n",
       "      <td>0.400000</td>\n",
       "    </tr>\n",
       "    <tr>\n",
       "      <th>max</th>\n",
       "      <td>1.850907e+08</td>\n",
       "      <td>7381.800000</td>\n",
       "      <td>50.000000</td>\n",
       "    </tr>\n",
       "  </tbody>\n",
       "</table>\n",
       "</div>"
      ],
      "text/plain": [
       "                 id         price        amount\n",
       "count  1.571500e+04  15715.000000  15715.000000\n",
       "mean   1.843726e+08   6944.705870      0.363908\n",
       "std    4.061195e+05    220.682866      0.954616\n",
       "min    1.836018e+08   6377.000000      0.000001\n",
       "25%    1.840329e+08   6787.580973      0.027552\n",
       "50%    1.843920e+08   6985.000000      0.100000\n",
       "75%    1.847168e+08   7098.904860      0.400000\n",
       "max    1.850907e+08   7381.800000     50.000000"
      ]
     },
     "execution_count": 39,
     "metadata": {},
     "output_type": "execute_result"
    }
   ],
   "source": [
    "data.describe()"
   ]
  },
  {
   "cell_type": "code",
   "execution_count": 45,
   "metadata": {},
   "outputs": [
    {
     "data": {
      "image/png": "[encoded data removed]",
      "text/plain": [
       "<matplotlib.figure.Figure at 0x10ffa5588>"
      ]
     },
     "metadata": {},
     "output_type": "display_data"
    }
   ],
   "source": [
    "import matplotlib.pyplot as plt\n",
    "\n",
    "%matplotlib inline\n",
    "import seaborn as sns\n",
    "\n",
    "plot1 = plt.plot(data['hours'],data['price'])"
   ]
  },
  {
   "cell_type": "code",
   "execution_count": null,
   "metadata": {},
   "outputs": [],
   "source": []
  }
 ],
 "metadata": {
  "kernelspec": {
   "display_name": "Python 3",
   "language": "python",
   "name": "python3"
  },
  "language_info": {
   "codemirror_mode": {
    "name": "ipython",
    "version": 3
   },
   "file_extension": ".py",
   "mimetype": "text/x-python",
   "name": "python",
   "nbconvert_exporter": "python",
   "pygments_lexer": "ipython3",
   "version": "3.6.4"
  }
 },
 "nbformat": 4,
 "nbformat_minor": 2
}
