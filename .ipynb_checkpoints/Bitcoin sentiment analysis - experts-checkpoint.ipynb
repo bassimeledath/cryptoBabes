{
 "cells": [
  {
   "cell_type": "code",
   "execution_count": 12,
   "metadata": {},
   "outputs": [],
   "source": [
    "# Dependencies\n",
    "\n",
    "import numpy as np\n",
    "import pandas as pd\n",
    "import matplotlib.pyplot as plt\n",
    "import tweepy\n",
    "from IPython.display import display\n",
    "from tweepy import OAuthHandler\n",
    "%matplotlib inline"
   ]
  },
  {
   "cell_type": "code",
   "execution_count": 13,
   "metadata": {},
   "outputs": [],
   "source": [
    "# Authorizing the API\n",
    "\n",
    "def twitter_authorization():\n",
    "    consumer_key = 'n1gDcWukWnKnWrjgiG3ehyMWj'\n",
    "    consumer_secret = '7wnHaiE7xJcuHpep1a4wlXzy3b0WpIUKr8nkKv4YqGqljMwUNf'\n",
    "    access_token = '75494022-QzpwSyZ9H6bzsdTEPZjD3nW6SkOOxVJhoW4bKNAkb'\n",
    "    access_secret = 'yBQwPrn61ZDmUoco9cksNwrq8sBiqLAMQUaAeoRcScPzz'\n",
    "    auth = OAuthHandler(consumer_key, consumer_secret)\n",
    "    auth.set_access_token(access_token, access_secret)\n",
    "    api = tweepy.API(auth)\n",
    "    \n",
    "    return api"
   ]
  },
  {
   "cell_type": "code",
   "execution_count": 14,
   "metadata": {},
   "outputs": [],
   "source": [
    "tweet_extractor = twitter_authorization()\n",
    "\n",
    "\n",
    "VentureCoinist = extractor.user_timeline(screen_name=\"VentureCoinist\",since='2018-06-27', until='2018-06-28')\n",
    "bennydoda01 = extractor.user_timeline(screen_name=\"bennydoda01\",since='2018-06-27', until='2018-06-28')\n",
    "Coin_Shark = extractor.user_timeline(screen_name=\"Coin_Shark\",since='2018-06-27', until='2018-06-28')\n",
    "Crypto_Skipper = extractor.user_timeline(screen_name=\"Crypto_Skipper\",since='2018-06-27', until='2018-06-28')\n",
    "BitcoinMagazine = extractor.user_timeline(screen_name=\"BitcoinMagazine\",since='2018-06-27', until='2018-06-28')\n"
   ]
  },
  {
   "cell_type": "code",
   "execution_count": 4,
   "metadata": {},
   "outputs": [],
   "source": [
    "data1 = pd.DataFrame(data=[tweet.text for tweet in VentureCoinist], columns=['Tweets'])\n",
    "data2 = pd.DataFrame(data=[tweet.text for tweet in bennydoda01], columns=['Tweets'])\n",
    "data3 = pd.DataFrame(data=[tweet.text for tweet in Coin_Shark], columns=['Tweets'])\n",
    "data4 = pd.DataFrame(data=[tweet.text for tweet in Crypto_Skipper], columns=['Tweets'])\n",
    "data5 = pd.DataFrame(data=[tweet.text for tweet in BitcoinMagazine], columns=['Tweets'])"
   ]
  },
  {
   "cell_type": "code",
   "execution_count": 5,
   "metadata": {},
   "outputs": [],
   "source": [
    "# Creating sentiment analysis criteria\n",
    "\n",
    "from textblob import TextBlob\n",
    "import re\n",
    "\n",
    "def clean_tweet(tweet):\n",
    "    return ' '.join(re.sub(\"(@[A-Za-z0-9]+)|([^0-9A-Za-z \\t])|(\\w+:\\/\\/\\S+)\", \" \", tweet).split())\n",
    "\n",
    "def analyze_sentiment(tweet):\n",
    "    analysis = TextBlob(clean_tweet(tweet))\n",
    "    if analysis.sentiment.polarity > 0:\n",
    "        return 1\n",
    "    elif analysis.sentiment.polarity == 0:\n",
    "        return 0\n",
    "    else:\n",
    "        return -1"
   ]
  },
  {
   "cell_type": "code",
   "execution_count": 6,
   "metadata": {},
   "outputs": [
    {
     "name": "stdout",
     "output_type": "stream",
     "text": [
      "0.0\n"
     ]
    }
   ],
   "source": [
    "# Reassign variables to their sentiment analysis score\n",
    "\n",
    "VentureCoinist = np.array([ analyze_sentiment(tweet) for tweet in data1['Tweets'] ]).mean()\n",
    "print (VentureCoinist)\n",
    "bennydoda01 = np.array([ analyze_sentiment(tweet) for tweet in data2['Tweets'] ]).mean()\n",
    "Coin_Shark = np.array([ analyze_sentiment(tweet) for tweet in data3['Tweets'] ]).mean()\n",
    "Crypto_Skipper = np.array([ analyze_sentiment(tweet) for tweet in data4['Tweets'] ]).mean()\n",
    "BitcoinMagazine = np.array([ analyze_sentiment(tweet) for tweet in data5['Tweets'] ]).mean()\n"
   ]
  },
  {
   "cell_type": "code",
   "execution_count": 7,
   "metadata": {},
   "outputs": [
    {
     "name": "stdout",
     "output_type": "stream",
     "text": [
      "('VentureCoinist', 'bennydoda01', 'Coin_Shark', 'Crypto_Skipper', 'BitcoinMagazine')\n",
      "(0.0, 0.35, 0.35, 0.4, 0.15)\n"
     ]
    }
   ],
   "source": [
    "final_list = ('VentureCoinist','bennydoda01','Coin_Shark','Crypto_Skipper','BitcoinMagazine')\n",
    "final_scores = (VentureCoinist,bennydoda01,Coin_Shark,Crypto_Skipper,BitcoinMagazine)\n",
    "\n",
    "print (final_list)\n",
    "print (final_scores)"
   ]
  },
  {
   "cell_type": "code",
   "execution_count": 8,
   "metadata": {},
   "outputs": [
    {
     "data": {
      "text/plain": [
       "<BarContainer object of 5 artists>"
      ]
     },
     "execution_count": 8,
     "metadata": {},
     "output_type": "execute_result"
    },
    {
     "data": {
      "image/png": "[encoded data removed]",
      "text/plain": [
       "<Figure size 432x288 with 1 Axes>"
      ]
     },
     "metadata": {},
     "output_type": "display_data"
    }
   ],
   "source": [
    "# Sentiment positivity scores from 5 major crypto twitter accounts on the 27th of June\n",
    "\n",
    "plt.bar(final_list,final_scores)"
   ]
  },
  {
   "cell_type": "code",
   "execution_count": null,
   "metadata": {},
   "outputs": [],
   "source": []
  }
 ],
 "metadata": {
  "kernelspec": {
   "display_name": "Python 3",
   "language": "python",
   "name": "python3"
  },
  "language_info": {
   "codemirror_mode": {
    "name": "ipython",
    "version": 3
   },
   "file_extension": ".py",
   "mimetype": "text/x-python",
   "name": "python",
   "nbconvert_exporter": "python",
   "pygments_lexer": "ipython3",
   "version": "3.6.5"
  }
 },
 "nbformat": 4,
 "nbformat_minor": 2
}
