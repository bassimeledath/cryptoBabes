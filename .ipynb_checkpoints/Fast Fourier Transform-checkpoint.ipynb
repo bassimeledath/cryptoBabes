{
 "cells": [
  {
   "cell_type": "code",
   "execution_count": 2,
   "metadata": {},
   "outputs": [],
   "source": [
    "import pandas as pd\n",
    "import numpy as np\n",
    "import scipy.fftpack"
   ]
  },
  {
   "cell_type": "code",
   "execution_count": 3,
   "metadata": {},
   "outputs": [],
   "source": [
    "data = pd.read_csv('original_data.csv')"
   ]
  },
  {
   "cell_type": "code",
   "execution_count": 12,
   "metadata": {},
   "outputs": [],
   "source": [
    "data['fft'] = pd.Series(np.fft.fft(data['price']))"
   ]
  },
  {
   "cell_type": "code",
   "execution_count": 13,
   "metadata": {},
   "outputs": [
    {
     "name": "stdout",
     "output_type": "stream",
     "text": [
      "          id exchange  symbol           date       price    amount   sell  \\\n",
      "0  183601815       bf  btceur  1517529608000  7349.60000  0.004568  False   \n",
      "1  183601825       bf  btceur  1517529609000  7354.68045  0.010000   True   \n",
      "2  183601823       bf  btceur  1517529609000  7354.68045  0.004568   True   \n",
      "3  183601833       bf  btceur  1517529610000  7354.60000  0.102395  False   \n",
      "4  183601904       bf  btceur  1517529626000  7343.40750  0.086580  False   \n",
      "\n",
      "                                        fft  \n",
      "0                    (109136052.7464021+0j)  \n",
      "1  (1576011.2572860909+1115943.4841867622j)  \n",
      "2   (-560395.3906116047-831023.5287130242j)  \n",
      "3   (-45870.96243091853-70302.00787673776j)  \n",
      "4    (44044.57494423625-679763.6959299189j)  \n"
     ]
    }
   ],
   "source": [
    "print (data.head())"
   ]
  },
  {
   "cell_type": "code",
   "execution_count": null,
   "metadata": {},
   "outputs": [],
   "source": []
  }
 ],
 "metadata": {
  "kernelspec": {
   "display_name": "Python 3",
   "language": "python",
   "name": "python3"
  },
  "language_info": {
   "codemirror_mode": {
    "name": "ipython",
    "version": 3
   },
   "file_extension": ".py",
   "mimetype": "text/x-python",
   "name": "python",
   "nbconvert_exporter": "python",
   "pygments_lexer": "ipython3",
   "version": "3.6.5"
  }
 },
 "nbformat": 4,
 "nbformat_minor": 2
}
