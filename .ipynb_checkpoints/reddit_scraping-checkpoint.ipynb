{
 "cells": [
  {
   "cell_type": "code",
   "execution_count": 17,
   "metadata": {},
   "outputs": [],
   "source": [
    "# Dependencies and API authorization\n",
    "\n",
    "import praw\n",
    "import numpy as np\n",
    "import seaborn as sns\n",
    "\n",
    "reddit = praw.Reddit(client_id='6ZMDlY4XOzagYA', \n",
    "                     client_secret='W1_dlQfv4reQdvehjdPIMu5plg0', \n",
    "                     user_agent='DelegatePal', \n",
    "                     username='DelegatePal', \n",
    "                     password='Eledath123')"
   ]
  },
  {
   "cell_type": "code",
   "execution_count": 18,
   "metadata": {},
   "outputs": [
    {
     "name": "stdout",
     "output_type": "stream",
     "text": [
      "DelegatePal\n"
     ]
    }
   ],
   "source": [
    "print(reddit.user.me())"
   ]
  },
  {
   "cell_type": "code",
   "execution_count": 19,
   "metadata": {},
   "outputs": [],
   "source": [
    "# The thread I will be analyzing is a bitcoin thread created on the 27th of June\n",
    "\n",
    "submission = reddit.submission(url='https://www.reddit.com/r/Bitcoin/comments/8u82mv/daily_discussion_june_27_2018/')"
   ]
  },
  {
   "cell_type": "code",
   "execution_count": 20,
   "metadata": {},
   "outputs": [],
   "source": [
    "# Initializing an empty list that appends all comments in the thread\n",
    "\n",
    "list = []\n",
    "submission.comments.replace_more(limit=None)\n",
    "comment_queue = submission.comments[:] \n",
    "while comment_queue:\n",
    "    comment = comment_queue.pop(0)\n",
    "    list.append(comment.body)\n",
    "    comment_queue.extend(comment.replies)\n",
    "\n"
   ]
  },
  {
   "cell_type": "code",
   "execution_count": 21,
   "metadata": {},
   "outputs": [],
   "source": [
    "# Cleaning list and applying sentiment analysis criteria\n",
    "\n",
    "from textblob import TextBlob\n",
    "import re\n",
    "\n",
    "def clean_tweet(thread):\n",
    "    return ' '.join(re.sub(\"(@[A-Za-z0-9]+)|([^0-9A-Za-z \\t])|(\\w+:\\/\\/\\S+)\", \" \", thread).split())\n",
    "\n",
    "def analyze_sentiment(comments):\n",
    "    analysis = TextBlob(clean_tweet(comments))\n",
    "    if analysis.sentiment.polarity > 0:\n",
    "        return 1\n",
    "    elif analysis.sentiment.polarity == 0:\n",
    "        return 0\n",
    "    else:\n",
    "        return -1"
   ]
  },
  {
   "cell_type": "code",
   "execution_count": 22,
   "metadata": {},
   "outputs": [],
   "source": [
    "# applying function\n",
    "\n",
    "thread_cleaned = np.array([analyze_sentiment(comment) for comment in list ])"
   ]
  },
  {
   "cell_type": "code",
   "execution_count": 23,
   "metadata": {},
   "outputs": [
    {
     "data": {
      "text/plain": [
       "<matplotlib.axes._subplots.AxesSubplot at 0x1a180868d0>"
      ]
     },
     "execution_count": 23,
     "metadata": {},
     "output_type": "execute_result"
    },
    {
     "data": {
      "image/png": "[encoded data removed]",
      "text/plain": [
       "<Figure size 432x288 with 1 Axes>"
      ]
     },
     "metadata": {},
     "output_type": "display_data"
    }
   ],
   "source": [
    "# Plotting. Mostly positive sentiment over all comments\n",
    "\n",
    "sns.countplot(thread_cleaned)"
   ]
  },
  {
   "cell_type": "code",
   "execution_count": null,
   "metadata": {},
   "outputs": [],
   "source": []
  }
 ],
 "metadata": {
  "kernelspec": {
   "display_name": "Python 3",
   "language": "python",
   "name": "python3"
  },
  "language_info": {
   "codemirror_mode": {
    "name": "ipython",
    "version": 3
   },
   "file_extension": ".py",
   "mimetype": "text/x-python",
   "name": "python",
   "nbconvert_exporter": "python",
   "pygments_lexer": "ipython3",
   "version": "3.6.5"
  }
 },
 "nbformat": 4,
 "nbformat_minor": 2
}
